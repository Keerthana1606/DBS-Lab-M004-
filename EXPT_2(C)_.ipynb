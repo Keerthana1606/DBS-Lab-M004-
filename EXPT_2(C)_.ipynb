{
  "nbformat": 4,
  "nbformat_minor": 0,
  "metadata": {
    "colab": {
      "provenance": [],
      "authorship_tag": "ABX9TyMu/XcCmb73JBf15e0MXbxw",
      "include_colab_link": true
    },
    "kernelspec": {
      "name": "python3",
      "display_name": "Python 3"
    },
    "language_info": {
      "name": "python"
    }
  },
  "cells": [
    {
      "cell_type": "markdown",
      "metadata": {
        "id": "view-in-github",
        "colab_type": "text"
      },
      "source": [
        "<a href=\"https://colab.research.google.com/github/Keerthana1606/DBS-Lab-M004-/blob/main/EXPT_2(C)_.ipynb\" target=\"_parent\"><img src=\"https://colab.research.google.com/assets/colab-badge.svg\" alt=\"Open In Colab\"/></a>"
      ]
    },
    {
      "cell_type": "code",
      "execution_count": 1,
      "metadata": {
        "colab": {
          "base_uri": "https://localhost:8080/"
        },
        "id": "QytIkDC0Xa8Z",
        "outputId": "189a266f-9e84-4121-bd18-5242b2fce6bb"
      },
      "outputs": [
        {
          "output_type": "stream",
          "name": "stdout",
          "text": [
            "Enter the value of n (prime number): 5\n",
            "Enter the value of g (generator): 7\n",
            "Enter the value of x for the first person: 1\n",
            "Enter the value of y for the second person: 2\n",
            "Key for the first person is: 4\n",
            "Key for the second person is: 4\n"
          ]
        }
      ],
      "source": [
        "def power(a, b, mod):\n",
        "    \"\"\"Calculates (a^b) % mod using recursive exponentiation by squaring.\"\"\"\n",
        "    if b == 1:\n",
        "        return a % mod\n",
        "    t = power(a, b // 2, mod)\n",
        "    if b % 2 == 0:\n",
        "        return (t * t) % mod\n",
        "    else:\n",
        "        return ((t * t) % mod * a) % mod\n",
        "\n",
        "\n",
        "def main():\n",
        "    # Input values\n",
        "    n = int(input(\"Enter the value of n (prime number): \"))\n",
        "    g = int(input(\"Enter the value of g (generator): \"))\n",
        "    x = int(input(\"Enter the value of x for the first person: \"))\n",
        "    a = power(g, x, n)\n",
        "    y = int(input(\"Enter the value of y for the second person: \"))\n",
        "    b = power(g, y, n)\n",
        "\n",
        "    # Calculate the shared keys\n",
        "    key1 = power(b, x, n)  # Key for the first person\n",
        "    key2 = power(a, y, n)  # Key for the second person\n",
        "\n",
        "    print(f\"Key for the first person is: {key1}\")\n",
        "    print(f\"Key for the second person is: {key2}\")\n",
        "\n",
        "\n",
        "if __name__ == \"__main__\":\n",
        "    main()\n"
      ]
    }
  ]
}