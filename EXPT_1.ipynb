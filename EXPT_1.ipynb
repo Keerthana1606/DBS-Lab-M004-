{
  "nbformat": 4,
  "nbformat_minor": 0,
  "metadata": {
    "colab": {
      "provenance": [],
      "authorship_tag": "ABX9TyN+NTKC6OoZvmEoRd6CLXDP",
      "include_colab_link": true
    },
    "kernelspec": {
      "name": "python3",
      "display_name": "Python 3"
    },
    "language_info": {
      "name": "python"
    }
  },
  "cells": [
    {
      "cell_type": "markdown",
      "metadata": {
        "id": "view-in-github",
        "colab_type": "text"
      },
      "source": [
        "<a href=\"https://colab.research.google.com/github/Keerthana1606/DBS-Lab-M004-/blob/main/EXPT_1.ipynb\" target=\"_parent\"><img src=\"https://colab.research.google.com/assets/colab-badge.svg\" alt=\"Open In Colab\"/></a>"
      ]
    },
    {
      "cell_type": "code",
      "source": [],
      "metadata": {
        "id": "qDPUZfMsuLC4"
      },
      "execution_count": null,
      "outputs": []
    },
    {
      "cell_type": "code",
      "metadata": {
        "colab": {
          "base_uri": "https://localhost:8080/"
        },
        "id": "19fb4db1",
        "outputId": "8d8f8c91-da20-4ce8-deec-88808db2f115"
      },
      "source": [
        "def caesar_cipher():\n",
        "    plain = input(\"Enter the plain text: \")\n",
        "    key = int(input(\"Enter the key value: \"))\n",
        "    print(\"\\n\\tPLAIN TEXT:\", plain)\n",
        "    print(\"\\n\\tENCRYPTED TEXT:\", end=' ')\n",
        "\n",
        "    cipher = ''\n",
        "    for char in plain:\n",
        "        if char.isupper():\n",
        "            cipher_char = chr((ord(char) + key - 65) % 26 + 65)\n",
        "        elif char.islower():\n",
        "            cipher_char = chr((ord(char) + key - 97) % 26 + 97)\n",
        "        else:\n",
        "            cipher_char = char  # Non-alphabetic characters remain unchanged\n",
        "        cipher += cipher_char\n",
        "        print(cipher_char, end=' ')\n",
        "    print(\"\\n\\n\\tAFTER DECRYPTION:\", end=' ')\n",
        "\n",
        "    decrypted = ''\n",
        "    for char in cipher:\n",
        "        if char.isupper():\n",
        "            plain_char = chr((ord(char) - key - 65) % 26 + 65)\n",
        "        elif char.islower():\n",
        "            plain_char = chr((ord(char) - key - 97) % 26 + 97)\n",
        "        else:\n",
        "            plain_char = char  # Non-alphabetic characters remain unchanged\n",
        "        decrypted += plain_char\n",
        "        print(plain_char, end=' ')\n",
        "    print()\n",
        "\n",
        "if __name__ == \"__main__\":\n",
        "    caesar_cipher()"
      ],
      "execution_count": 8,
      "outputs": [
        {
          "output_type": "stream",
          "name": "stdout",
          "text": [
            "Enter the plain text: hello\n",
            "Enter the key value: 2\n",
            "\n",
            "\tPLAIN TEXT: hello\n",
            "\n",
            "\tENCRYPTED TEXT: j g n n q \n",
            "\n",
            "\tAFTER DECRYPTION: h e l l o \n"
          ]
        }
      ]
    }
  ]
}