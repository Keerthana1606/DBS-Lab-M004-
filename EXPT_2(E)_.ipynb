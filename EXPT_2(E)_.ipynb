{
  "nbformat": 4,
  "nbformat_minor": 0,
  "metadata": {
    "colab": {
      "provenance": [],
      "authorship_tag": "ABX9TyMCgrMy1lg1z4gruPRE+rZc",
      "include_colab_link": true
    },
    "kernelspec": {
      "name": "python3",
      "display_name": "Python 3"
    },
    "language_info": {
      "name": "python"
    }
  },
  "cells": [
    {
      "cell_type": "markdown",
      "metadata": {
        "id": "view-in-github",
        "colab_type": "text"
      },
      "source": [
        "<a href=\"https://colab.research.google.com/github/Keerthana1606/DBS-Lab-M004-/blob/main/EXPT_2(E)_.ipynb\" target=\"_parent\"><img src=\"https://colab.research.google.com/assets/colab-badge.svg\" alt=\"Open In Colab\"/></a>"
      ]
    },
    {
      "cell_type": "code",
      "execution_count": 1,
      "metadata": {
        "colab": {
          "base_uri": "https://localhost:8080/"
        },
        "id": "I5WdqCGWcKFb",
        "outputId": "cad48dc1-e273-439d-b386-689d6577b91d"
      },
      "outputs": [
        {
          "output_type": "stream",
          "name": "stdout",
          "text": [
            "Message digest object info:\n",
            " Algorithm = sha1\n",
            " Provider = hashlib\n",
            " ToString = <sha1 _hashlib.HASH object @ 0x7ab68a49cc30>\n",
            "\n",
            "SHA1(\"\") = DA39A3EE5E6B4B0D3255BFEF95601890AFD80709\n",
            "\n",
            "SHA1(\"abc\") = A9993E364706816ABA3E25717850C26C9CD0D89D\n",
            "\n",
            "SHA1(\"abcdefghijklmnopqrstuvwxyz\") = 32D10C7B8CF96570CA04CE37F2A19D84240D3A89\n",
            "\n"
          ]
        }
      ],
      "source": [
        "import hashlib\n",
        "\n",
        "\n",
        "def sha1():\n",
        "    try:\n",
        "        md = hashlib.sha1()\n",
        "        print(\"Message digest object info:\")\n",
        "        print(f\" Algorithm = {md.name}\")\n",
        "        print(f\" Provider = {hashlib.__name__}\")\n",
        "        print(f\" ToString = {md}\")\n",
        "\n",
        "        # Test case 1: Empty string\n",
        "        input_str = \"\"\n",
        "        md.update(input_str.encode())\n",
        "        output = md.digest()\n",
        "        print()\n",
        "        print(f\"SHA1(\\\"{input_str}\\\") = {bytes_to_hex(output)}\")\n",
        "\n",
        "        # Test case 2: \"abc\"\n",
        "        input_str = \"abc\"\n",
        "        md = hashlib.sha1()\n",
        "        md.update(input_str.encode())\n",
        "        output = md.digest()\n",
        "        print()\n",
        "        print(f\"SHA1(\\\"{input_str}\\\") = {bytes_to_hex(output)}\")\n",
        "\n",
        "        # Test case 3: Alphabet string\n",
        "        input_str = \"abcdefghijklmnopqrstuvwxyz\"\n",
        "        md = hashlib.sha1()\n",
        "        md.update(input_str.encode())\n",
        "        output = md.digest()\n",
        "        print()\n",
        "        print(f\"SHA1(\\\"{input_str}\\\") = {bytes_to_hex(output)}\")\n",
        "        print()\n",
        "\n",
        "    except Exception as e:\n",
        "        print(f\"Exception: {e}\")\n",
        "\n",
        "\n",
        "def bytes_to_hex(b):\n",
        "    return ''.join([f'{byte:02X}' for byte in b])\n",
        "\n",
        "\n",
        "if __name__ == \"__main__\":\n",
        "    sha1()\n"
      ]
    }
  ]
}