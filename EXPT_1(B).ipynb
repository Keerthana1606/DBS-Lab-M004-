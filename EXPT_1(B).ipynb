{
  "nbformat": 4,
  "nbformat_minor": 0,
  "metadata": {
    "colab": {
      "provenance": [],
      "authorship_tag": "ABX9TyMA6GxH4M/iPFlngMPlxCgX",
      "include_colab_link": true
    },
    "kernelspec": {
      "name": "python3",
      "display_name": "Python 3"
    },
    "language_info": {
      "name": "python"
    }
  },
  "cells": [
    {
      "cell_type": "markdown",
      "metadata": {
        "id": "view-in-github",
        "colab_type": "text"
      },
      "source": [
        "<a href=\"https://colab.research.google.com/github/Keerthana1606/DBS-Lab-M004-/blob/main/EXPT_1(B).ipynb\" target=\"_parent\"><img src=\"https://colab.research.google.com/assets/colab-badge.svg\" alt=\"Open In Colab\"/></a>"
      ]
    },
    {
      "cell_type": "code",
      "execution_count": 1,
      "metadata": {
        "colab": {
          "base_uri": "https://localhost:8080/"
        },
        "id": "W6W6fDvtuz6N",
        "outputId": "d8186eee-0580-4d6e-9d90-e0b58c6bf1ca"
      },
      "outputs": [
        {
          "output_type": "stream",
          "name": "stdout",
          "text": [
            "Enter the plain text: Anime Lover\n",
            "Enter the key value: 4\n",
            "\n",
            "\tPLAIN TEXT: Anime Lover\n",
            "\n",
            "\tENCRYPTED TEXT: E r m q i   P s z i v \n",
            "\n",
            "\tAFTER DECRYPTION: A n i m e   L o v e r \n"
          ]
        }
      ],
      "source": [
        "def caesar_cipher():\n",
        "    plain = input(\"Enter the plain text: \")\n",
        "    key = int(input(\"Enter the key value: \"))\n",
        "    print(\"\\n\\tPLAIN TEXT:\", plain)\n",
        "    print(\"\\n\\tENCRYPTED TEXT:\", end=' ')\n",
        "\n",
        "    cipher = ''\n",
        "    for char in plain:\n",
        "        if char.isupper():\n",
        "            cipher_char = chr((ord(char) + key - 65) % 26 + 65)\n",
        "        elif char.islower():\n",
        "            cipher_char = chr((ord(char) + key - 97) % 26 + 97)\n",
        "        else:\n",
        "            cipher_char = char  # Non-alphabetic characters remain unchanged\n",
        "        cipher += cipher_char\n",
        "        print(cipher_char, end=' ')\n",
        "    print(\"\\n\\n\\tAFTER DECRYPTION:\", end=' ')\n",
        "\n",
        "    decrypted = ''\n",
        "    for char in cipher:\n",
        "        if char.isupper():\n",
        "            plain_char = chr((ord(char) - key - 65) % 26 + 65)\n",
        "        elif char.islower():\n",
        "            plain_char = chr((ord(char) - key - 97) % 26 + 97)\n",
        "        else:\n",
        "            plain_char = char  # Non-alphabetic characters remain unchanged\n",
        "        decrypted += plain_char\n",
        "        print(plain_char, end=' ')\n",
        "    print()\n",
        "\n",
        "if __name__ == \"__main__\":\n",
        "    caesar_cipher()"
      ]
    },
    {
      "cell_type": "code",
      "source": [],
      "metadata": {
        "id": "wzY29irfwBIh"
      },
      "execution_count": null,
      "outputs": []
    }
  ]
}