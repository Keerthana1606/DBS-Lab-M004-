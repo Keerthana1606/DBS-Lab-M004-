{
  "nbformat": 4,
  "nbformat_minor": 0,
  "metadata": {
    "colab": {
      "provenance": [],
      "authorship_tag": "ABX9TyOpp55R22E1sE/GwZkVW760",
      "include_colab_link": true
    },
    "kernelspec": {
      "name": "python3",
      "display_name": "Python 3"
    },
    "language_info": {
      "name": "python"
    }
  },
  "cells": [
    {
      "cell_type": "markdown",
      "metadata": {
        "id": "view-in-github",
        "colab_type": "text"
      },
      "source": [
        "<a href=\"https://colab.research.google.com/github/Keerthana1606/DBS-Lab-M004-/blob/main/EXPT_1(D)_.ipynb\" target=\"_parent\"><img src=\"https://colab.research.google.com/assets/colab-badge.svg\" alt=\"Open In Colab\"/></a>"
      ]
    },
    {
      "cell_type": "code",
      "execution_count": 1,
      "metadata": {
        "colab": {
          "base_uri": "https://localhost:8080/"
        },
        "id": "3TOHva-zzaWi",
        "outputId": "ba349fb1-c145-4661-d229-46147d9681d6"
      },
      "outputs": [
        {
          "name": "stdout",
          "output_type": "stream",
          "text": [
            "\n",
            "1. Encrypt Text\n",
            "\t2. Decrypt Text\n",
            "\t3. Exit\n",
            "\n",
            "\n",
            "Enter Your Choice: 1\n",
            "\n",
            "\n",
            "Enter Plain Text: secret information\n",
            "\n",
            "Enter Key Value: 6\n",
            "\n",
            "Resultant Cipher Text: HTRGTIIXCUDGBPIXDC\n",
            "\n",
            "1. Encrypt Text\n",
            "\t2. Decrypt Text\n",
            "\t3. Exit\n",
            "\n",
            "\n",
            "Enter Your Choice: 2\n",
            "\n",
            "\n",
            "Enter Cipher Text: HTRGTIIXCUDGBPIXDC\n",
            "\n",
            "\n",
            "Enter the key value: 6\n",
            "\n",
            "Decrypted Plain Text: SECRETTINFORMATION\n",
            "\n",
            "1. Encrypt Text\n",
            "\t2. Decrypt Text\n",
            "\t3. Exit\n",
            "\n",
            "\n",
            "Enter Your Choice: 3\n"
          ]
        }
      ],
      "source": [
        "import string\n",
        "\n",
        "def encipher():\n",
        "    input_text = input(\"\\n\\nEnter Plain Text: \")\n",
        "    key = input(\"\\nEnter Key Value: \")\n",
        "    print(\"\\nResultant Cipher Text: \", end=\"\")\n",
        "\n",
        "    j = 0\n",
        "    for i in range(len(input_text)):\n",
        "        if j >= len(key):\n",
        "            j = 0\n",
        "        cipher_char = chr(65 + ((ord(input_text[i].upper()) - 65 + ord(key[j].upper()) - 65) % 26))\n",
        "        print(cipher_char, end=\"\")\n",
        "        j += 1\n",
        "    print()\n",
        "\n",
        "\n",
        "def decipher():\n",
        "    input_text = input(\"\\n\\nEnter Cipher Text: \")\n",
        "    key = input(\"\\n\\nEnter the key value: \")\n",
        "    print(\"\\nDecrypted Plain Text: \", end=\"\")\n",
        "\n",
        "    j = 0\n",
        "    for i in range(len(input_text)):\n",
        "        if j >= len(key):\n",
        "            j = 0\n",
        "        value = (ord(input_text[i].upper()) - ord(key[j].upper())) % 26\n",
        "        plain_char = chr(65 + value)\n",
        "        print(plain_char, end=\"\")\n",
        "        j += 1\n",
        "    print()\n",
        "\n",
        "\n",
        "def main():\n",
        "    while True:\n",
        "        print(\"\\n1. Encrypt Text\")\n",
        "        print(\"\\t2. Decrypt Text\")\n",
        "        print(\"\\t3. Exit\")\n",
        "        choice = int(input(\"\\n\\nEnter Your Choice: \"))\n",
        "\n",
        "        if choice == 3:\n",
        "            break\n",
        "        elif choice == 1:\n",
        "            encipher()\n",
        "        elif choice == 2:\n",
        "            decipher()\n",
        "        else:\n",
        "            print(\"Please Enter a Valid Option.\")\n",
        "\n",
        "\n",
        "if __name__ == \"__main__\":\n",
        "    main()\n"
      ]
    }
  ]
}