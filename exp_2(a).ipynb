{
  "nbformat": 4,
  "nbformat_minor": 0,
  "metadata": {
    "colab": {
      "provenance": [],
      "authorship_tag": "ABX9TyPTshEtawGnU4e9Wot0seL8",
      "include_colab_link": true
    },
    "kernelspec": {
      "name": "python3",
      "display_name": "Python 3"
    },
    "language_info": {
      "name": "python"
    }
  },
  "cells": [
    {
      "cell_type": "markdown",
      "metadata": {
        "id": "view-in-github",
        "colab_type": "text"
      },
      "source": [
        "<a href=\"https://colab.research.google.com/github/Keerthana1606/DBS-Lab-M004-/blob/main/exp_2(a).ipynb\" target=\"_parent\"><img src=\"https://colab.research.google.com/assets/colab-badge.svg\" alt=\"Open In Colab\"/></a>"
      ]
    },
    {
      "cell_type": "code",
      "execution_count": 4,
      "metadata": {
        "colab": {
          "base_uri": "https://localhost:8080/"
        },
        "id": "S7htbrX27CF1",
        "outputId": "95881823-109c-4005-c250-058ada28a46e"
      },
      "outputs": [
        {
          "output_type": "stream",
          "name": "stdout",
          "text": [
            "DES Symmetric key (hex): b47807c402b5a8af\n",
            "Enter message to encrypt: scsvmv\n",
            "Encrypted message (hex): 425b4fc42d28d1b0e4f36afd0bcd694a\n",
            "Decrypted message: scsvmv\n"
          ]
        }
      ],
      "source": [
        "from Crypto.Cipher import DES\n",
        "from Crypto.Util.Padding import pad, unpad\n",
        "from Crypto.Random import get_random_bytes\n",
        "import binascii\n",
        "\n",
        "class DESExample:\n",
        "    def __init__(self):\n",
        "        self.raw_key = self.generate_symmetric_key()\n",
        "        self.input_message = input(\"Enter message to encrypt: \")\n",
        "\n",
        "        # Encrypt the input message\n",
        "        encrypted_data = self.encrypt(self.raw_key, self.input_message.encode())\n",
        "        print(\"Encrypted message (hex):\", binascii.hexlify(encrypted_data).decode())\n",
        "\n",
        "        # Decrypt the message\n",
        "        decrypted_message = self.decrypt(self.raw_key, encrypted_data)\n",
        "        print(\"Decrypted message:\", decrypted_message.decode())\n",
        "\n",
        "    def generate_symmetric_key(self):\n",
        "        # Generate a random key for DES (must be 8 bytes)\n",
        "        key = get_random_bytes(8)\n",
        "        print(\"DES Symmetric key (hex):\", binascii.hexlify(key).decode())\n",
        "        return key\n",
        "\n",
        "    def encrypt(self, key, clear):\n",
        "        # Create a DES cipher object\n",
        "        cipher = DES.new(key, DES.MODE_CBC)\n",
        "        # Pad the plaintext\n",
        "        padded_clear = pad(clear, DES.block_size)\n",
        "        # Encrypt the padded plaintext\n",
        "        iv = cipher.iv\n",
        "        encrypted = iv + cipher.encrypt(padded_clear)  # Prepend IV to ciphertext\n",
        "        return encrypted\n",
        "\n",
        "    def decrypt(self, key, encrypted):\n",
        "        # Extract the IV from the beginning of the encrypted data\n",
        "        iv = encrypted[:DES.block_size]\n",
        "        ciphertext = encrypted[DES.block_size:]\n",
        "        # Create a DES cipher object with the same IV\n",
        "        cipher = DES.new(key, DES.MODE_CBC, iv)\n",
        "        # Decrypt the ciphertext\n",
        "        decrypted_padded_clear = cipher.decrypt(ciphertext)\n",
        "        # Unpad the decrypted plaintext\n",
        "        return unpad(decrypted_padded_clear, DES.block_size)\n",
        "\n",
        "\n",
        "if __name__ == \"__main__\":\n",
        "    DESExample()\n"
      ]
    },
    {
      "cell_type": "code",
      "metadata": {
        "colab": {
          "base_uri": "https://localhost:8080/"
        },
        "id": "e3bb1ece",
        "outputId": "492ca36b-5e6f-4e56-b181-4ff67af50ff6"
      },
      "source": [
        "!pip install pycryptodome"
      ],
      "execution_count": 3,
      "outputs": [
        {
          "output_type": "stream",
          "name": "stdout",
          "text": [
            "Requirement already satisfied: pycryptodome in /usr/local/lib/python3.12/dist-packages (3.23.0)\n"
          ]
        }
      ]
    }
  ]
}